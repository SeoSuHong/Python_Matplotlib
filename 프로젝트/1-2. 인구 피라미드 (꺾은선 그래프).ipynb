{
 "cells": [
  {
   "cell_type": "markdown",
   "id": "32d55eb3",
   "metadata": {},
   "source": [
    "# 1-2. 인구 피라미드 (꺾은선 그래프)"
   ]
  },
  {
   "cell_type": "code",
   "execution_count": 1,
   "id": "d75da762",
   "metadata": {},
   "outputs": [],
   "source": [
    "import pandas as pd\n",
    "import matplotlib.pyplot as plt\n",
    "import matplotlib\n",
    "\n",
    "matplotlib.rcParams['font.family'] = 'Malgun Gothic'\n",
    "matplotlib.rcParams['font.size'] = 15\n",
    "matplotlib.rcParams['axes.unicode_minus'] = False"
   ]
  },
  {
   "cell_type": "markdown",
   "id": "7f29ae9f",
   "metadata": {},
   "source": [
    "## 남자 데이터 정의"
   ]
  },
  {
   "cell_type": "code",
   "execution_count": 2,
   "id": "5e1699be",
   "metadata": {
    "scrolled": true
   },
   "outputs": [
    {
     "name": "stderr",
     "output_type": "stream",
     "text": [
      "C:\\Users\\seosuhong\\lib\\site-packages\\openpyxl\\styles\\stylesheet.py:226: UserWarning: Workbook contains no default style, apply openpyxl's default\n",
      "  warn(\"Workbook contains no default style, apply openpyxl's default\")\n"
     ]
    },
    {
     "data": {
      "text/html": [
       "<div>\n",
       "<style scoped>\n",
       "    .dataframe tbody tr th:only-of-type {\n",
       "        vertical-align: middle;\n",
       "    }\n",
       "\n",
       "    .dataframe tbody tr th {\n",
       "        vertical-align: top;\n",
       "    }\n",
       "\n",
       "    .dataframe thead th {\n",
       "        text-align: right;\n",
       "    }\n",
       "</style>\n",
       "<table border=\"1\" class=\"dataframe\">\n",
       "  <thead>\n",
       "    <tr style=\"text-align: right;\">\n",
       "      <th></th>\n",
       "      <th>0~4세</th>\n",
       "      <th>5~9세</th>\n",
       "      <th>10~14세</th>\n",
       "      <th>15~19세</th>\n",
       "      <th>20~24세</th>\n",
       "      <th>25~29세</th>\n",
       "      <th>30~34세</th>\n",
       "      <th>35~39세</th>\n",
       "      <th>40~44세</th>\n",
       "      <th>45~49세</th>\n",
       "      <th>...</th>\n",
       "      <th>55~59세</th>\n",
       "      <th>60~64세</th>\n",
       "      <th>65~69세</th>\n",
       "      <th>70~74세</th>\n",
       "      <th>75~79세</th>\n",
       "      <th>80~84세</th>\n",
       "      <th>85~89세</th>\n",
       "      <th>90~94세</th>\n",
       "      <th>95~99세</th>\n",
       "      <th>100세 이상</th>\n",
       "    </tr>\n",
       "    <tr>\n",
       "      <th>행정기관</th>\n",
       "      <th></th>\n",
       "      <th></th>\n",
       "      <th></th>\n",
       "      <th></th>\n",
       "      <th></th>\n",
       "      <th></th>\n",
       "      <th></th>\n",
       "      <th></th>\n",
       "      <th></th>\n",
       "      <th></th>\n",
       "      <th></th>\n",
       "      <th></th>\n",
       "      <th></th>\n",
       "      <th></th>\n",
       "      <th></th>\n",
       "      <th></th>\n",
       "      <th></th>\n",
       "      <th></th>\n",
       "      <th></th>\n",
       "      <th></th>\n",
       "      <th></th>\n",
       "    </tr>\n",
       "  </thead>\n",
       "  <tbody>\n",
       "    <tr>\n",
       "      <th>전국</th>\n",
       "      <td>778,266</td>\n",
       "      <td>1,137,135</td>\n",
       "      <td>1,216,746</td>\n",
       "      <td>1,212,320</td>\n",
       "      <td>1,616,561</td>\n",
       "      <td>1,862,891</td>\n",
       "      <td>1,679,387</td>\n",
       "      <td>1,784,229</td>\n",
       "      <td>2,035,381</td>\n",
       "      <td>2,114,019</td>\n",
       "      <td>...</td>\n",
       "      <td>2,082,375</td>\n",
       "      <td>2,053,427</td>\n",
       "      <td>1,472,075</td>\n",
       "      <td>992,362</td>\n",
       "      <td>697,893</td>\n",
       "      <td>463,734</td>\n",
       "      <td>198,740</td>\n",
       "      <td>50,759</td>\n",
       "      <td>9,148</td>\n",
       "      <td>1,423</td>\n",
       "    </tr>\n",
       "    <tr>\n",
       "      <th>서울특별시</th>\n",
       "      <td>124,880</td>\n",
       "      <td>172,822</td>\n",
       "      <td>188,912</td>\n",
       "      <td>198,167</td>\n",
       "      <td>284,873</td>\n",
       "      <td>396,975</td>\n",
       "      <td>368,139</td>\n",
       "      <td>349,617</td>\n",
       "      <td>362,532</td>\n",
       "      <td>370,189</td>\n",
       "      <td>...</td>\n",
       "      <td>347,181</td>\n",
       "      <td>344,833</td>\n",
       "      <td>264,329</td>\n",
       "      <td>183,033</td>\n",
       "      <td>134,354</td>\n",
       "      <td>84,626</td>\n",
       "      <td>33,627</td>\n",
       "      <td>8,977</td>\n",
       "      <td>1,819</td>\n",
       "      <td>398</td>\n",
       "    </tr>\n",
       "    <tr>\n",
       "      <th>부산광역시</th>\n",
       "      <td>44,691</td>\n",
       "      <td>67,451</td>\n",
       "      <td>68,484</td>\n",
       "      <td>68,547</td>\n",
       "      <td>99,309</td>\n",
       "      <td>114,958</td>\n",
       "      <td>100,632</td>\n",
       "      <td>106,805</td>\n",
       "      <td>126,676</td>\n",
       "      <td>126,648</td>\n",
       "      <td>...</td>\n",
       "      <td>131,229</td>\n",
       "      <td>144,390</td>\n",
       "      <td>115,206</td>\n",
       "      <td>80,732</td>\n",
       "      <td>54,526</td>\n",
       "      <td>33,380</td>\n",
       "      <td>12,373</td>\n",
       "      <td>2,911</td>\n",
       "      <td>467</td>\n",
       "      <td>67</td>\n",
       "    </tr>\n",
       "  </tbody>\n",
       "</table>\n",
       "<p>3 rows × 21 columns</p>\n",
       "</div>"
      ],
      "text/plain": [
       "            0~4세       5~9세     10~14세     15~19세     20~24세     25~29세  \\\n",
       "행정기관                                                                      \n",
       "전국       778,266  1,137,135  1,216,746  1,212,320  1,616,561  1,862,891   \n",
       "서울특별시    124,880    172,822    188,912    198,167    284,873    396,975   \n",
       "부산광역시     44,691     67,451     68,484     68,547     99,309    114,958   \n",
       "\n",
       "            30~34세     35~39세     40~44세     45~49세  ...     55~59세  \\\n",
       "행정기관                                                 ...              \n",
       "전국       1,679,387  1,784,229  2,035,381  2,114,019  ...  2,082,375   \n",
       "서울특별시      368,139    349,617    362,532    370,189  ...    347,181   \n",
       "부산광역시      100,632    106,805    126,676    126,648  ...    131,229   \n",
       "\n",
       "            60~64세     65~69세   70~74세   75~79세   80~84세   85~89세  90~94세  \\\n",
       "행정기관                                                                        \n",
       "전국       2,053,427  1,472,075  992,362  697,893  463,734  198,740  50,759   \n",
       "서울특별시      344,833    264,329  183,033  134,354   84,626   33,627   8,977   \n",
       "부산광역시      144,390    115,206   80,732   54,526   33,380   12,373   2,911   \n",
       "\n",
       "        95~99세 100세 이상  \n",
       "행정기관                    \n",
       "전국       9,148   1,423  \n",
       "서울특별시    1,819     398  \n",
       "부산광역시      467      67  \n",
       "\n",
       "[3 rows x 21 columns]"
      ]
     },
     "execution_count": 2,
     "metadata": {},
     "output_type": "execute_result"
    }
   ],
   "source": [
    "file_name = '2022_연령별인구현황.xlsx'\n",
    "df_m = pd.read_excel(file_name, skiprows=3, index_col='행정기관', usecols='B, E:Y')\n",
    "df_m.head(3)"
   ]
  },
  {
   "cell_type": "code",
   "execution_count": 3,
   "id": "5e702397",
   "metadata": {
    "scrolled": true
   },
   "outputs": [
    {
     "data": {
      "text/plain": [
       "0~4세       778266\n",
       "5~9세      1137135\n",
       "10~14세    1216746\n",
       "Name: 전국  , dtype: object"
      ]
     },
     "execution_count": 3,
     "metadata": {},
     "output_type": "execute_result"
    }
   ],
   "source": [
    "df_m.iloc[0] = df_m.iloc[0].str.replace(',', '').astype(int) # 1,234,567 -> 1234567 (정수형)\n",
    "df_m.iloc[0].head(3)"
   ]
  },
  {
   "cell_type": "markdown",
   "id": "9470e48d",
   "metadata": {},
   "source": [
    "## 여자 데이터 정의"
   ]
  },
  {
   "cell_type": "code",
   "execution_count": 4,
   "id": "67ab7223",
   "metadata": {
    "scrolled": true
   },
   "outputs": [
    {
     "name": "stderr",
     "output_type": "stream",
     "text": [
      "C:\\Users\\seosuhong\\lib\\site-packages\\openpyxl\\styles\\stylesheet.py:226: UserWarning: Workbook contains no default style, apply openpyxl's default\n",
      "  warn(\"Workbook contains no default style, apply openpyxl's default\")\n"
     ]
    },
    {
     "data": {
      "text/html": [
       "<div>\n",
       "<style scoped>\n",
       "    .dataframe tbody tr th:only-of-type {\n",
       "        vertical-align: middle;\n",
       "    }\n",
       "\n",
       "    .dataframe tbody tr th {\n",
       "        vertical-align: top;\n",
       "    }\n",
       "\n",
       "    .dataframe thead th {\n",
       "        text-align: right;\n",
       "    }\n",
       "</style>\n",
       "<table border=\"1\" class=\"dataframe\">\n",
       "  <thead>\n",
       "    <tr style=\"text-align: right;\">\n",
       "      <th></th>\n",
       "      <th>0~4세.1</th>\n",
       "      <th>5~9세.1</th>\n",
       "      <th>10~14세.1</th>\n",
       "      <th>15~19세.1</th>\n",
       "      <th>20~24세.1</th>\n",
       "      <th>25~29세.1</th>\n",
       "      <th>30~34세.1</th>\n",
       "      <th>35~39세.1</th>\n",
       "      <th>40~44세.1</th>\n",
       "      <th>45~49세.1</th>\n",
       "      <th>...</th>\n",
       "      <th>55~59세.1</th>\n",
       "      <th>60~64세.1</th>\n",
       "      <th>65~69세.1</th>\n",
       "      <th>70~74세.1</th>\n",
       "      <th>75~79세.1</th>\n",
       "      <th>80~84세.1</th>\n",
       "      <th>85~89세.1</th>\n",
       "      <th>90~94세.1</th>\n",
       "      <th>95~99세.1</th>\n",
       "      <th>100세 이상.1</th>\n",
       "    </tr>\n",
       "    <tr>\n",
       "      <th>행정기관</th>\n",
       "      <th></th>\n",
       "      <th></th>\n",
       "      <th></th>\n",
       "      <th></th>\n",
       "      <th></th>\n",
       "      <th></th>\n",
       "      <th></th>\n",
       "      <th></th>\n",
       "      <th></th>\n",
       "      <th></th>\n",
       "      <th></th>\n",
       "      <th></th>\n",
       "      <th></th>\n",
       "      <th></th>\n",
       "      <th></th>\n",
       "      <th></th>\n",
       "      <th></th>\n",
       "      <th></th>\n",
       "      <th></th>\n",
       "      <th></th>\n",
       "      <th></th>\n",
       "    </tr>\n",
       "  </thead>\n",
       "  <tbody>\n",
       "    <tr>\n",
       "      <th>전국</th>\n",
       "      <td>738,470</td>\n",
       "      <td>1,082,771</td>\n",
       "      <td>1,149,152</td>\n",
       "      <td>1,127,784</td>\n",
       "      <td>1,490,117</td>\n",
       "      <td>1,663,142</td>\n",
       "      <td>1,541,734</td>\n",
       "      <td>1,698,921</td>\n",
       "      <td>1,967,541</td>\n",
       "      <td>2,049,882</td>\n",
       "      <td>...</td>\n",
       "      <td>2,019,257</td>\n",
       "      <td>2,096,880</td>\n",
       "      <td>1,573,921</td>\n",
       "      <td>1,127,047</td>\n",
       "      <td>907,592</td>\n",
       "      <td>749,407</td>\n",
       "      <td>441,143</td>\n",
       "      <td>169,780</td>\n",
       "      <td>38,908</td>\n",
       "      <td>6,730</td>\n",
       "    </tr>\n",
       "    <tr>\n",
       "      <th>서울특별시</th>\n",
       "      <td>117,384</td>\n",
       "      <td>164,666</td>\n",
       "      <td>178,935</td>\n",
       "      <td>189,009</td>\n",
       "      <td>315,894</td>\n",
       "      <td>419,639</td>\n",
       "      <td>369,431</td>\n",
       "      <td>350,070</td>\n",
       "      <td>368,673</td>\n",
       "      <td>378,465</td>\n",
       "      <td>...</td>\n",
       "      <td>356,370</td>\n",
       "      <td>379,091</td>\n",
       "      <td>301,498</td>\n",
       "      <td>214,617</td>\n",
       "      <td>165,615</td>\n",
       "      <td>116,899</td>\n",
       "      <td>63,295</td>\n",
       "      <td>25,168</td>\n",
       "      <td>6,223</td>\n",
       "      <td>1,285</td>\n",
       "    </tr>\n",
       "    <tr>\n",
       "      <th>부산광역시</th>\n",
       "      <td>42,368</td>\n",
       "      <td>63,998</td>\n",
       "      <td>64,955</td>\n",
       "      <td>64,058</td>\n",
       "      <td>94,275</td>\n",
       "      <td>105,020</td>\n",
       "      <td>94,285</td>\n",
       "      <td>102,357</td>\n",
       "      <td>123,185</td>\n",
       "      <td>125,730</td>\n",
       "      <td>...</td>\n",
       "      <td>138,501</td>\n",
       "      <td>160,644</td>\n",
       "      <td>130,035</td>\n",
       "      <td>95,210</td>\n",
       "      <td>68,633</td>\n",
       "      <td>52,090</td>\n",
       "      <td>27,286</td>\n",
       "      <td>10,118</td>\n",
       "      <td>2,183</td>\n",
       "      <td>331</td>\n",
       "    </tr>\n",
       "  </tbody>\n",
       "</table>\n",
       "<p>3 rows × 21 columns</p>\n",
       "</div>"
      ],
      "text/plain": [
       "          0~4세.1     5~9세.1   10~14세.1   15~19세.1   20~24세.1   25~29세.1  \\\n",
       "행정기관                                                                      \n",
       "전국       738,470  1,082,771  1,149,152  1,127,784  1,490,117  1,663,142   \n",
       "서울특별시    117,384    164,666    178,935    189,009    315,894    419,639   \n",
       "부산광역시     42,368     63,998     64,955     64,058     94,275    105,020   \n",
       "\n",
       "          30~34세.1   35~39세.1   40~44세.1   45~49세.1  ...   55~59세.1  \\\n",
       "행정기관                                                 ...              \n",
       "전국       1,541,734  1,698,921  1,967,541  2,049,882  ...  2,019,257   \n",
       "서울특별시      369,431    350,070    368,673    378,465  ...    356,370   \n",
       "부산광역시       94,285    102,357    123,185    125,730  ...    138,501   \n",
       "\n",
       "          60~64세.1   65~69세.1   70~74세.1 75~79세.1 80~84세.1 85~89세.1 90~94세.1  \\\n",
       "행정기관                                                                           \n",
       "전국       2,096,880  1,573,921  1,127,047  907,592  749,407  441,143  169,780   \n",
       "서울특별시      379,091    301,498    214,617  165,615  116,899   63,295   25,168   \n",
       "부산광역시      160,644    130,035     95,210   68,633   52,090   27,286   10,118   \n",
       "\n",
       "        95~99세.1 100세 이상.1  \n",
       "행정기관                        \n",
       "전국        38,908     6,730  \n",
       "서울특별시      6,223     1,285  \n",
       "부산광역시      2,183       331  \n",
       "\n",
       "[3 rows x 21 columns]"
      ]
     },
     "execution_count": 4,
     "metadata": {},
     "output_type": "execute_result"
    }
   ],
   "source": [
    "df_w = pd.read_excel(file_name, skiprows=3, index_col='행정기관', usecols='B, AB:AV')\n",
    "df_w.head(3)"
   ]
  },
  {
   "cell_type": "code",
   "execution_count": 5,
   "id": "c3e8ff11",
   "metadata": {},
   "outputs": [
    {
     "data": {
      "text/plain": [
       "0~4세.1       738470\n",
       "5~9세.1      1082771\n",
       "10~14세.1    1149152\n",
       "Name: 전국  , dtype: object"
      ]
     },
     "execution_count": 5,
     "metadata": {},
     "output_type": "execute_result"
    }
   ],
   "source": [
    "df_w.iloc[0] = df_w.iloc[0].str.replace(',', '').astype(int) # 1,234,567 -> 1234567 (정수형)\n",
    "df_w.iloc[0].head(3)"
   ]
  },
  {
   "cell_type": "code",
   "execution_count": 6,
   "id": "a14a78af",
   "metadata": {},
   "outputs": [
    {
     "data": {
      "text/plain": [
       "Index(['0~4세', '5~9세', '10~14세', '15~19세', '20~24세', '25~29세', '30~34세',\n",
       "       '35~39세', '40~44세', '45~49세', '50~54세', '55~59세', '60~64세', '65~69세',\n",
       "       '70~74세', '75~79세', '80~84세', '85~89세', '90~94세', '95~99세', '100세 이상'],\n",
       "      dtype='object')"
      ]
     },
     "execution_count": 6,
     "metadata": {},
     "output_type": "execute_result"
    }
   ],
   "source": [
    "df_w.columns = df_m.columns # columns 명 동일화\n",
    "df_w.columns"
   ]
  },
  {
   "cell_type": "markdown",
   "id": "09dcc5bb",
   "metadata": {},
   "source": [
    "## 데이터 시각화"
   ]
  },
  {
   "cell_type": "code",
   "execution_count": 7,
   "id": "fe25c832",
   "metadata": {
    "scrolled": true
   },
   "outputs": [
    {
     "data": {
      "image/png": "[encoded data removed]",
      "text/plain": [
       "<Figure size 720x360 with 1 Axes>"
      ]
     },
     "metadata": {
      "needs_background": "light"
     },
     "output_type": "display_data"
    }
   ],
   "source": [
    "plt.figure(figsize=(10, 5))\n",
    "plt.title('2022년 대한민국 인구 수')\n",
    "plt.plot(df_m.columns, df_m.iloc[0], label='남자', marker='o', ms=10, mec='w', mew=2)\n",
    "plt.plot(df_w.columns, df_w.iloc[0], label='여자', marker='o', ms=10, mec='w', mew=2)\n",
    "\n",
    "plt.legend()\n",
    "plt.xticks(rotation=90)\n",
    "plt.ylabel('인구 수 ( 단위 : 백만 명 )')\n",
    "plt.savefig('2022_인구피라미드(꺾은선 그래프).png', dpi=100)\n",
    "plt.show()"
   ]
  }
 ],
 "metadata": {
  "kernelspec": {
   "display_name": "Python 3 (ipykernel)",
   "language": "python",
   "name": "python3"
  },
  "language_info": {
   "codemirror_mode": {
    "name": "ipython",
    "version": 3
   },
   "file_extension": ".py",
   "mimetype": "text/x-python",
   "name": "python",
   "nbconvert_exporter": "python",
   "pygments_lexer": "ipython3",
   "version": "3.9.7"
  }
 },
 "nbformat": 4,
 "nbformat_minor": 5
}
